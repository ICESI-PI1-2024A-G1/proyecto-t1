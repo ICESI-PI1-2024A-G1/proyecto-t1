{
  "nbformat": 4,
  "nbformat_minor": 0,
  "metadata": {
    "colab": {
      "provenance": []
    },
    "kernelspec": {
      "name": "python3",
      "display_name": "Python 3"
    },
    "language_info": {
      "name": "python"
    }
  },
  "cells": [
    {
      "cell_type": "markdown",
      "source": [
        "# INDICADORES DE TEST\n",
        "\n",
        "## Cobertura de código\n",
        "\n",
        "$\\frac{\\text{Lineas de codigo cubiertas}}{\\text{Total de lineas de codigo}}*100$"
      ],
      "metadata": {
        "id": "ZOAvQdZAcFbz"
      }
    }
  ]
}